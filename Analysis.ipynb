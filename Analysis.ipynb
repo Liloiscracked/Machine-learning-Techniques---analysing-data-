{
 "cells": [
  {
   "cell_type": "code",
   "execution_count": null,
   "outputs": [],
   "source": [
    "#all needed libraries\n",
    "import pandas as pd\n",
    "import numpy as np\n",
    "from Ridge_regression import RidgeRegression\n",
    "from sklearn.model_selection import cross_val_score, KFold, train_test_split\n",
    "from sklearn.linear_model import LinearRegression\n",
    "from sklearn.metrics import mean_absolute_error, mean_squared_error          \n",
    "from sklearn.preprocessing import StandardScaler\n",
    "import matplotlib.pyplot as plt\n",
    "from scipy.stats import ttest_ind\n",
    "import statsmodels.api as sm\n",
    "import seaborn as sns\n"
   ],
   "metadata": {
    "collapsed": false,
    "pycharm": {
     "name": "#%%\n"
    }
   },
   "id": "afcba37f2321ab5"
  },
  {
   "cell_type": "code",
   "execution_count": null,
   "outputs": [],
   "source": [
    "#Q1\n",
    "# Load the dataset\n",
    "data = pd.read_csv('Life Expectancy Data.csv')\n",
    "\n",
    "# Select relevant columns for analysis\n",
    "selected_columns = ['Life expectancy ', 'Adult Mortality', 'infant deaths', 'Alcohol', 'percentage expenditure',\n",
    "                    'Hepatitis B', 'Measles ', ' BMI ', 'under-five deaths ', 'Polio', 'Total expenditure',\n",
    "                    'Diphtheria ', ' HIV/AIDS', 'GDP', 'Population', ' thinness  1-19 years', ' thinness 5-9 years',\n",
    "                    'Income composition of resources', 'Schooling']\n",
    "\n",
    "# Drop rows with missing values\n",
    "data_cleaned = data[selected_columns].dropna()\n",
    "\n",
    "# Split data into features (X) and target variable (y)\n",
    "X = data_cleaned.drop(columns=['Life expectancy '])\n",
    "y = data_cleaned['Life expectancy ']\n",
    "\n",
    "# Split data into training and testing sets\n",
    "X_train, X_test, y_train, y_test = train_test_split(X, y, test_size=0.2, random_state=42)\n",
    "\n",
    "# Train a linear regression model\n",
    "model = LinearRegression()\n",
    "model.fit(X_train, y_train)\n",
    "\n",
    "# Predict life expectancy on the test set\n",
    "y_pred = model.predict(X_test)\n",
    "\n",
    "# Evaluate the model using Mean Squared Error (MSE)\n",
    "mse = mean_squared_error(y_test, y_pred)\n",
    "print(\"Mean Squared Error:\", mse)\n",
    "\n",
    "# Get coefficients of the features\n",
    "coefficients = pd.DataFrame(model.coef_, index=X.columns, columns=['Coefficient'])\n",
    "coefficients = coefficients.sort_values(by='Coefficient', ascending=False)\n",
    "\n",
    "# Print coefficients of the features\n",
    "print(\"Coefficients of predicting variables affecting life expectancy:\")\n",
    "print(coefficients)\n"
   ],
   "metadata": {
    "collapsed": false,
    "pycharm": {
     "name": "#%%\n"
    }
   },
   "id": "d75bca625571b158"
  },
  {
   "cell_type": "code",
   "execution_count": null,
   "outputs": [],
   "source": [
    "#Q2\n",
    "\n",
    "# Load the dataset\n",
    "data = pd.read_csv('Life Expectancy Data.csv')\n",
    "\n",
    "# Filter countries with life expectancy < 65\n",
    "low_life_expectancy = data[data['Life expectancy '] < 65]\n",
    "\n",
    "# Split data into two groups based on healthcare expenditure\n",
    "high_expenditure = low_life_expectancy[low_life_expectancy['Total expenditure'] >= low_life_expectancy['Total expenditure'].median()]\n",
    "low_expenditure = low_life_expectancy[low_life_expectancy['Total expenditure'] < low_life_expectancy['Total expenditure'].median()]\n",
    "\n",
    "# Perform t-test to compare life expectancy between high and low expenditure groups\n",
    "t_stat, p_value = ttest_ind(high_expenditure['Life expectancy '], low_expenditure['Life expectancy '], equal_var=False)\n",
    "\n",
    "# Determine significance level\n",
    "alpha = 0.05\n",
    "if p_value < alpha:\n",
    "    conclusion = \"Reject null hypothesis: There is a significant difference in life expectancy between high and low expenditure groups.\"\n",
    "else:\n",
    "    conclusion = \"Fail to reject null hypothesis: There is no significant difference in life expectancy between high and low expenditure groups.\"\n",
    "\n",
    "print(\"T-statistic:\", t_stat)\n",
    "print(\"P-value:\", p_value)\n",
    "print(conclusion)\n",
    "\n",
    "plt.scatter()\n"
   ],
   "metadata": {
    "collapsed": false,
    "pycharm": {
     "name": "#%%\n"
    }
   },
   "id": "41de1b3c91acd129"
  },
  {
   "cell_type": "code",
   "execution_count": null,
   "outputs": [],
   "source": [
    "#Q3\n",
    "\n",
    "# Load the dataset\n",
    "data = pd.read_csv('Life Expectancy Data.csv')\n",
    "\n",
    "# Select relevant columns\n",
    "selected_columns = ['Life expectancy', 'Adult Mortality', 'infant deaths']\n",
    "\n",
    "# Drop rows with missing values\n",
    "data_cleaned = data[selected_columns].dropna()\n",
    "\n",
    "# Define independent variables (infant deaths and adult mortality) and dependent variable (life expectancy)\n",
    "X = data_cleaned[['Adult Mortality', 'infant deaths']]\n",
    "y = data_cleaned['Life expectancy']\n",
    "\n",
    "# Add constant to independent variables for regression intercept\n",
    "X = sm.add_constant(X)\n",
    "\n",
    "# Fit linear regression model\n",
    "model = sm.OLS(y, X).fit()\n",
    "\n",
    "# Print regression summary\n",
    "print(model.summary())\n"
   ],
   "metadata": {
    "collapsed": false,
    "pycharm": {
     "name": "#%%\n"
    }
   },
   "id": "8f933f6f438d7755"
  },
  {
   "cell_type": "code",
   "execution_count": null,
   "outputs": [],
   "source": [
    "#Q4\n",
    "\n",
    "# Load the dataset\n",
    "data = pd.read_csv('Life Expectancy Data.csv')\n",
    "\n",
    "# Select relevant columns\n",
    "selected_columns = ['Life expectancy ', ' BMI ', 'Alcohol', ' HIV/AIDS', ' thinness  1-19 years', ' thinness 5-9 years', 'Income composition of resources', 'Schooling']\n",
    "\n",
    "# Drop rows with missing values\n",
    "data_cleaned = data[selected_columns].dropna()\n",
    "\n",
    "# Calculate correlation matrix\n",
    "correlation_matrix = data_cleaned.corr()\n",
    "\n",
    "# Extract correlation coefficients with life expectancy\n",
    "life_expectancy_correlation = correlation_matrix['Life expectancy ']\n",
    "\n",
    "# Print correlation coefficients\n",
    "print(\"Correlation with Life Expectancy:\")\n",
    "print(life_expectancy_correlation)\n"
   ],
   "metadata": {
    "collapsed": false,
    "pycharm": {
     "name": "#%%\n"
    }
   },
   "id": "b61d136c77f6d931"
  },
  {
   "cell_type": "code",
   "execution_count": null,
   "outputs": [],
   "source": [
    "#Q5\n",
    "\n",
    "# Load the dataset\n",
    "data = pd.read_csv('Life Expectancy Data.csv')\n",
    "\n",
    "# Select relevant columns\n",
    "selected_columns = ['Life expectancy', 'Schooling']\n",
    "\n",
    "# Drop rows with missing values\n",
    "data_cleaned = data[selected_columns].dropna()\n",
    "\n",
    "# Define independent variable (schooling) and dependent variable (life expectancy)\n",
    "X = data_cleaned['Schooling']\n",
    "y = data_cleaned['Life expectancy']\n",
    "\n",
    "# Add constant to independent variable for regression intercept\n",
    "X = sm.add_constant(X)\n",
    "\n",
    "# Fit linear regression model\n",
    "model = sm.OLS(y, X).fit()\n",
    "# Print regression summary\n",
    "#print(model.summary())\n",
    "\n",
    "plt.figure()\n",
    "sns.relplot(x='Schooling', y='Life expectancy', color = 'r', marker = 'o',kind='scatter',data=data_cleaned)\n",
    "plt.xlabel('x')\n",
    "plt.ylabel('y')\n",
    "plt.show()"
   ],
   "metadata": {
    "collapsed": false,
    "pycharm": {
     "name": "#%%\n"
    }
   },
   "id": "347680b3c28f8dff"
  },
  {
   "cell_type": "code",
   "execution_count": null,
   "outputs": [],
   "source": [
    "#Q6\n",
    "# Load the dataset\n",
    "data = pd.read_csv('Life Expectancy Data.csv')\n",
    "\n",
    "# Select relevant columns\n",
    "selected_columns = ['Life expectancy ', 'Alcohol']\n",
    "\n",
    "# Drop rows with missing values\n",
    "data_cleaned = data[selected_columns].dropna()\n",
    "\n",
    "# Calculate correlation coefficient\n",
    "correlation_coefficient = data_cleaned['Life expectancy '].corr(data_cleaned['Alcohol'])\n",
    "\n",
    "# Print correlation coefficient\n",
    "print(\"Correlation coefficient between Life Expectancy and Alcohol Consumption:\", correlation_coefficient)\n"
   ],
   "metadata": {
    "collapsed": false,
    "pycharm": {
     "name": "#%%\n"
    }
   },
   "id": "36fcbf7b296eee54"
  },
  {
   "cell_type": "code",
   "execution_count": null,
   "outputs": [],
   "source": [
    "#Q7\n",
    "# Load the dataset\n",
    "data = pd.read_csv('Life Expectancy Data.csv')\n",
    "\n",
    "# Select relevant columns\n",
    "selected_columns = ['Life expectancy', 'Population']\n",
    "\n",
    "# Drop rows with missing values\n",
    "data_cleaned = data[selected_columns].dropna()\n",
    "\n",
    "# Calculate population density (population / area)\n",
    "# If area information is available in the dataset, replace 'area' with the actual column name\n",
    "# Otherwise, you can skip this step if population density is not directly available\n",
    "#data_cleaned['Population Density'] = data_cleaned['Population'] / area\n",
    "\n",
    "# Calculate correlation coefficient\n",
    "correlation_coefficient = data_cleaned['Life expectancy'].corr(data_cleaned['Population Density'])\n",
    "\n",
    "# Print correlation coefficient\n",
    "print(\"Correlation coefficient between Life Expectancy and Population Density:\", correlation_coefficient)\n"
   ],
   "metadata": {
    "collapsed": false,
    "pycharm": {
     "name": "#%%\n"
    }
   },
   "id": "3ee2b9fb7b303eee"
  },
  {
   "cell_type": "code",
   "execution_count": null,
   "outputs": [],
   "source": [
    "#Q8\n",
    "data = pd.read_csv('Life Expectancy Data.csv')\n",
    "data=data.dropna()\n",
    "Immunization_Factors = ['Polio','Diphtheria','Hepatitis B']\n",
    "Immunization_data = data[Immunization_Factors]\n",
    "model = LinearRegression()\n",
    "\n",
    "y = data['Life expectancy']\n",
    "\n",
    "# Split data into training and testing sets\n",
    "X_train, X_test, y_train, y_test = train_test_split(Immunization_data, y, test_size=0.2, random_state=42)\n",
    "\n",
    "# Train a linear regression model\n",
    "model = LinearRegression()\n",
    "model.fit(X_train, y_train)\n",
    "\n",
    "# Predict life expectancy on the test set\n",
    "y_pred = model.predict(X_test)\n",
    "\n",
    "# Evaluate the model using Mean Squared Error (MSE)\n",
    "mse = mean_squared_error(y_test, y_pred)\n",
    "print(\"Mean Squared Error:\", mse)\n",
    "\n",
    "# Get coefficients of the features\n",
    "coefficients = pd.DataFrame(model.coef_, index=Immunization_data.columns, columns=['Coefficient'])\n",
    "coefficients = coefficients.sort_values(by='Coefficient', ascending=False)\n",
    "\n",
    "# Print coefficients of the features\n",
    "print(\"Coefficients of predicting variables affecting life expectancy:\")\n",
    "print(coefficients)"
   ],
   "metadata": {
    "collapsed": false,
    "pycharm": {
     "name": "#%%\n"
    }
   },
   "id": "61328981baf6e70a"
  },
  {
   "cell_type": "code",
   "execution_count": null,
   "outputs": [],
   "source": [
    "#Evaluation of the model"
   ],
   "metadata": {
    "collapsed": false,
    "pycharm": {
     "name": "#%%\n"
    }
   },
   "id": "4d7b5c6cc21ed1d5"
  },
  {
   "cell_type": "code",
   "execution_count": 7,
   "outputs": [
    {
     "name": "stdout",
     "output_type": "stream",
     "text": [
      "                            OLS Regression Results                            \n",
      "==============================================================================\n",
      "Dep. Variable:        Life expectancy   R-squared:                       0.505\n",
      "Model:                            OLS   Adj. R-squared:                  0.505\n",
      "Method:                 Least Squares   F-statistic:                     1493.\n",
      "Date:                Thu, 22 Feb 2024   Prob (F-statistic):               0.00\n",
      "Time:                        23:44:58   Log-Likelihood:                -9723.4\n",
      "No. Observations:                2928   AIC:                         1.945e+04\n",
      "Df Residuals:                    2925   BIC:                         1.947e+04\n",
      "Df Model:                           2                                         \n",
      "Covariance Type:            nonrobust                                         \n",
      "===================================================================================\n",
      "                      coef    std err          t      P>|t|      [0.025      0.975]\n",
      "-----------------------------------------------------------------------------------\n",
      "const              78.2260      0.207    378.651      0.000      77.821      78.631\n",
      "Adult Mortality    -0.0525      0.001    -52.509      0.000      -0.054      -0.051\n",
      "infant deaths      -0.0115      0.001    -10.929      0.000      -0.014      -0.009\n",
      "==============================================================================\n",
      "Omnibus:                     1001.477   Durbin-Watson:                   0.767\n",
      "Prob(Omnibus):                  0.000   Jarque-Bera (JB):             3819.862\n",
      "Skew:                          -1.664   Prob(JB):                         0.00\n",
      "Kurtosis:                       7.499   Cond. No.                         350.\n",
      "==============================================================================\n",
      "\n",
      "Notes:\n",
      "[1] Standard Errors assume that the covariance matrix of the errors is correctly specified.\n"
     ]
    },
    {
     "name": "stderr",
     "output_type": "stream",
     "text": [
      "/Users/medoaljoudi/opt/anaconda3/lib/python3.9/site-packages/statsmodels/tsa/tsatools.py:142: FutureWarning: In a future version of pandas all arguments of concat except for the argument 'objs' will be keyword-only\n",
      "  x = pd.concat(x[::order], 1)\n"
     ]
    }
   ],
   "source": [
    "#Q3\n",
    "\n",
    "# Load the dataset\n",
    "data = pd.read_csv('Life Expectancy Data.csv')\n",
    "\n",
    "# Select relevant columns\n",
    "selected_columns = ['Life expectancy', 'Adult Mortality', 'infant deaths']\n",
    "\n",
    "# Drop rows with missing values\n",
    "data_cleaned = data[selected_columns].dropna()\n",
    "\n",
    "# Define independent variables (infant deaths and adult mortality) and dependent variable (life expectancy)\n",
    "X = data_cleaned[['Adult Mortality', 'infant deaths']]\n",
    "y = data_cleaned['Life expectancy']\n",
    "\n",
    "# Add constant to independent variables for regression intercept\n",
    "X = sm.add_constant(X)\n",
    "\n",
    "# Fit linear regression model\n",
    "model = sm.OLS(y, X).fit()\n",
    "\n",
    "# Print regression summary\n",
    "print(model.summary())\n"
   ],
   "metadata": {
    "collapsed": false,
    "ExecuteTime": {
     "end_time": "2024-02-22T20:44:58.927257Z",
     "start_time": "2024-02-22T20:44:58.883404Z"
    }
   },
   "id": "cfc4efac9a76c94a"
  },
  {
   "cell_type": "code",
   "execution_count": 40,
   "outputs": [
    {
     "name": "stdout",
     "output_type": "stream",
     "text": [
      "Correlation with Life Expectancy:\n",
      "Life expectancy                    1.000000\n",
      " BMI                               0.566617\n",
      "Alcohol                            0.379419\n",
      " HIV/AIDS                         -0.571140\n",
      " thinness  1-19 years             -0.464997\n",
      " thinness 5-9 years               -0.459593\n",
      "Income composition of resources    0.711432\n",
      "Schooling                          0.745861\n",
      "Name: Life expectancy , dtype: float64\n"
     ]
    }
   ],
   "source": [
    "#Q4\n",
    "\n",
    "# Load the dataset\n",
    "data = pd.read_csv('Life Expectancy Data.csv')\n",
    "\n",
    "# Select relevant columns\n",
    "selected_columns = ['Life expectancy ', ' BMI ', 'Alcohol', ' HIV/AIDS', ' thinness  1-19 years', ' thinness 5-9 years', 'Income composition of resources', 'Schooling']\n",
    "\n",
    "# Drop rows with missing values\n",
    "data_cleaned = data[selected_columns].dropna()\n",
    "\n",
    "# Calculate correlation matrix\n",
    "correlation_matrix = data_cleaned.corr()\n",
    "\n",
    "# Extract correlation coefficients with life expectancy\n",
    "life_expectancy_correlation = correlation_matrix['Life expectancy ']\n",
    "\n",
    "# Print correlation coefficients\n",
    "print(\"Correlation with Life Expectancy:\")\n",
    "print(life_expectancy_correlation)\n"
   ],
   "metadata": {
    "collapsed": false,
    "ExecuteTime": {
     "end_time": "2024-02-16T18:59:51.945036Z",
     "start_time": "2024-02-16T18:59:51.920980Z"
    }
   },
   "id": "2074c382a2c39257"
  },
  {
   "cell_type": "code",
   "execution_count": 11,
   "outputs": [
    {
     "name": "stderr",
     "output_type": "stream",
     "text": [
      "/Users/medoaljoudi/opt/anaconda3/lib/python3.9/site-packages/statsmodels/tsa/tsatools.py:142: FutureWarning: In a future version of pandas all arguments of concat except for the argument 'objs' will be keyword-only\n",
      "  x = pd.concat(x[::order], 1)\n"
     ]
    },
    {
     "data": {
      "text/plain": "<Figure size 432x288 with 0 Axes>"
     },
     "metadata": {},
     "output_type": "display_data"
    },
    {
     "data": {
      "text/plain": "<Figure size 360x360 with 1 Axes>",
      "image/png": "[encoded data removed]"
     },
     "metadata": {
      "needs_background": "light"
     },
     "output_type": "display_data"
    }
   ],
   "source": [
    "#Q5\n",
    "\n",
    "# Load the dataset\n",
    "data = pd.read_csv('Life Expectancy Data.csv')\n",
    "\n",
    "# Select relevant columns\n",
    "selected_columns = ['Life expectancy', 'Schooling']\n",
    "\n",
    "# Drop rows with missing values\n",
    "data_cleaned = data[selected_columns].dropna()\n",
    "\n",
    "# Define independent variable (schooling) and dependent variable (life expectancy)\n",
    "X = data_cleaned['Schooling']\n",
    "y = data_cleaned['Life expectancy']\n",
    "\n",
    "# Add constant to independent variable for regression intercept\n",
    "X = sm.add_constant(X)\n",
    "\n",
    "# Fit linear regression model\n",
    "model = sm.OLS(y, X).fit()\n",
    "# Print regression summary\n",
    "#print(model.summary())\n",
    "\n",
    "plt.figure()\n",
    "sns.relplot(x='Schooling', y='Life expectancy', color = 'r', marker = 'o',kind='scatter',data=data_cleaned)\n",
    "plt.xlabel('x')\n",
    "plt.ylabel('y')\n",
    "plt.show()\n",
    "## put a linear regression model then check performance"
   ],
   "metadata": {
    "collapsed": false,
    "ExecuteTime": {
     "end_time": "2024-02-22T21:26:47.729372Z",
     "start_time": "2024-02-22T21:26:47.426630Z"
    }
   },
   "id": "e54f92a0b1d4811b"
  },
  {
   "cell_type": "code",
   "execution_count": 45,
   "outputs": [
    {
     "name": "stdout",
     "output_type": "stream",
     "text": [
      "Correlation coefficient between Life Expectancy and Alcohol Consumption: 0.40487676112660204\n"
     ]
    }
   ],
   "source": [
    "#Q6\n",
    "# Load the dataset\n",
    "data = pd.read_csv('Life Expectancy Data.csv')\n",
    "\n",
    "# Select relevant columns\n",
    "selected_columns = ['Life expectancy ', 'Alcohol']\n",
    "\n",
    "# Drop rows with missing values\n",
    "data_cleaned = data[selected_columns].dropna()\n",
    "\n",
    "# Calculate correlation coefficient\n",
    "correlation_coefficient = data_cleaned['Life expectancy '].corr(data_cleaned['Alcohol'])\n",
    "\n",
    "# Print correlation coefficient\n",
    "print(\"Correlation coefficient between Life Expectancy and Alcohol Consumption:\", correlation_coefficient)\n"
   ],
   "metadata": {
    "collapsed": false,
    "ExecuteTime": {
     "end_time": "2024-02-16T19:22:14.547050Z",
     "start_time": "2024-02-16T19:22:14.525896Z"
    }
   },
   "id": "6a7ce8efe7c4d2fc"
  },
  {
   "cell_type": "code",
   "execution_count": 55,
   "outputs": [
    {
     "ename": "KeyError",
     "evalue": "'Population Density'",
     "output_type": "error",
     "traceback": [
      "\u001B[0;31m---------------------------------------------------------------------------\u001B[0m",
      "\u001B[0;31mKeyError\u001B[0m                                  Traceback (most recent call last)",
      "\u001B[0;32m~/opt/anaconda3/lib/python3.9/site-packages/pandas/core/indexes/base.py\u001B[0m in \u001B[0;36mget_loc\u001B[0;34m(self, key, method, tolerance)\u001B[0m\n\u001B[1;32m   3360\u001B[0m             \u001B[0;32mtry\u001B[0m\u001B[0;34m:\u001B[0m\u001B[0;34m\u001B[0m\u001B[0;34m\u001B[0m\u001B[0m\n\u001B[0;32m-> 3361\u001B[0;31m                 \u001B[0;32mreturn\u001B[0m \u001B[0mself\u001B[0m\u001B[0;34m.\u001B[0m\u001B[0m_engine\u001B[0m\u001B[0;34m.\u001B[0m\u001B[0mget_loc\u001B[0m\u001B[0;34m(\u001B[0m\u001B[0mcasted_key\u001B[0m\u001B[0;34m)\u001B[0m\u001B[0;34m\u001B[0m\u001B[0;34m\u001B[0m\u001B[0m\n\u001B[0m\u001B[1;32m   3362\u001B[0m             \u001B[0;32mexcept\u001B[0m \u001B[0mKeyError\u001B[0m \u001B[0;32mas\u001B[0m \u001B[0merr\u001B[0m\u001B[0;34m:\u001B[0m\u001B[0;34m\u001B[0m\u001B[0;34m\u001B[0m\u001B[0m\n",
      "\u001B[0;32m~/opt/anaconda3/lib/python3.9/site-packages/pandas/_libs/index.pyx\u001B[0m in \u001B[0;36mpandas._libs.index.IndexEngine.get_loc\u001B[0;34m()\u001B[0m\n",
      "\u001B[0;32m~/opt/anaconda3/lib/python3.9/site-packages/pandas/_libs/index.pyx\u001B[0m in \u001B[0;36mpandas._libs.index.IndexEngine.get_loc\u001B[0;34m()\u001B[0m\n",
      "\u001B[0;32mpandas/_libs/hashtable_class_helper.pxi\u001B[0m in \u001B[0;36mpandas._libs.hashtable.PyObjectHashTable.get_item\u001B[0;34m()\u001B[0m\n",
      "\u001B[0;32mpandas/_libs/hashtable_class_helper.pxi\u001B[0m in \u001B[0;36mpandas._libs.hashtable.PyObjectHashTable.get_item\u001B[0;34m()\u001B[0m\n",
      "\u001B[0;31mKeyError\u001B[0m: 'Population Density'",
      "\nThe above exception was the direct cause of the following exception:\n",
      "\u001B[0;31mKeyError\u001B[0m                                  Traceback (most recent call last)",
      "\u001B[0;32m/var/folders/z5/68b3704s6qj2p9gk1hfwfr7r0000gn/T/ipykernel_36620/2665901337.py\u001B[0m in \u001B[0;36m<module>\u001B[0;34m\u001B[0m\n\u001B[1;32m     15\u001B[0m \u001B[0;34m\u001B[0m\u001B[0m\n\u001B[1;32m     16\u001B[0m \u001B[0;31m# Calculate correlation coefficient\u001B[0m\u001B[0;34m\u001B[0m\u001B[0;34m\u001B[0m\u001B[0m\n\u001B[0;32m---> 17\u001B[0;31m \u001B[0mcorrelation_coefficient\u001B[0m \u001B[0;34m=\u001B[0m \u001B[0mdata_cleaned\u001B[0m\u001B[0;34m[\u001B[0m\u001B[0;34m'Life expectancy'\u001B[0m\u001B[0;34m]\u001B[0m\u001B[0;34m.\u001B[0m\u001B[0mcorr\u001B[0m\u001B[0;34m(\u001B[0m\u001B[0mdata_cleaned\u001B[0m\u001B[0;34m[\u001B[0m\u001B[0;34m'Population Density'\u001B[0m\u001B[0;34m]\u001B[0m\u001B[0;34m)\u001B[0m\u001B[0;34m\u001B[0m\u001B[0;34m\u001B[0m\u001B[0m\n\u001B[0m\u001B[1;32m     18\u001B[0m \u001B[0;34m\u001B[0m\u001B[0m\n\u001B[1;32m     19\u001B[0m \u001B[0;31m# Print correlation coefficient\u001B[0m\u001B[0;34m\u001B[0m\u001B[0;34m\u001B[0m\u001B[0m\n",
      "\u001B[0;32m~/opt/anaconda3/lib/python3.9/site-packages/pandas/core/frame.py\u001B[0m in \u001B[0;36m__getitem__\u001B[0;34m(self, key)\u001B[0m\n\u001B[1;32m   3456\u001B[0m             \u001B[0;32mif\u001B[0m \u001B[0mself\u001B[0m\u001B[0;34m.\u001B[0m\u001B[0mcolumns\u001B[0m\u001B[0;34m.\u001B[0m\u001B[0mnlevels\u001B[0m \u001B[0;34m>\u001B[0m \u001B[0;36m1\u001B[0m\u001B[0;34m:\u001B[0m\u001B[0;34m\u001B[0m\u001B[0;34m\u001B[0m\u001B[0m\n\u001B[1;32m   3457\u001B[0m                 \u001B[0;32mreturn\u001B[0m \u001B[0mself\u001B[0m\u001B[0;34m.\u001B[0m\u001B[0m_getitem_multilevel\u001B[0m\u001B[0;34m(\u001B[0m\u001B[0mkey\u001B[0m\u001B[0;34m)\u001B[0m\u001B[0;34m\u001B[0m\u001B[0;34m\u001B[0m\u001B[0m\n\u001B[0;32m-> 3458\u001B[0;31m             \u001B[0mindexer\u001B[0m \u001B[0;34m=\u001B[0m \u001B[0mself\u001B[0m\u001B[0;34m.\u001B[0m\u001B[0mcolumns\u001B[0m\u001B[0;34m.\u001B[0m\u001B[0mget_loc\u001B[0m\u001B[0;34m(\u001B[0m\u001B[0mkey\u001B[0m\u001B[0;34m)\u001B[0m\u001B[0;34m\u001B[0m\u001B[0;34m\u001B[0m\u001B[0m\n\u001B[0m\u001B[1;32m   3459\u001B[0m             \u001B[0;32mif\u001B[0m \u001B[0mis_integer\u001B[0m\u001B[0;34m(\u001B[0m\u001B[0mindexer\u001B[0m\u001B[0;34m)\u001B[0m\u001B[0;34m:\u001B[0m\u001B[0;34m\u001B[0m\u001B[0;34m\u001B[0m\u001B[0m\n\u001B[1;32m   3460\u001B[0m                 \u001B[0mindexer\u001B[0m \u001B[0;34m=\u001B[0m \u001B[0;34m[\u001B[0m\u001B[0mindexer\u001B[0m\u001B[0;34m]\u001B[0m\u001B[0;34m\u001B[0m\u001B[0;34m\u001B[0m\u001B[0m\n",
      "\u001B[0;32m~/opt/anaconda3/lib/python3.9/site-packages/pandas/core/indexes/base.py\u001B[0m in \u001B[0;36mget_loc\u001B[0;34m(self, key, method, tolerance)\u001B[0m\n\u001B[1;32m   3361\u001B[0m                 \u001B[0;32mreturn\u001B[0m \u001B[0mself\u001B[0m\u001B[0;34m.\u001B[0m\u001B[0m_engine\u001B[0m\u001B[0;34m.\u001B[0m\u001B[0mget_loc\u001B[0m\u001B[0;34m(\u001B[0m\u001B[0mcasted_key\u001B[0m\u001B[0;34m)\u001B[0m\u001B[0;34m\u001B[0m\u001B[0;34m\u001B[0m\u001B[0m\n\u001B[1;32m   3362\u001B[0m             \u001B[0;32mexcept\u001B[0m \u001B[0mKeyError\u001B[0m \u001B[0;32mas\u001B[0m \u001B[0merr\u001B[0m\u001B[0;34m:\u001B[0m\u001B[0;34m\u001B[0m\u001B[0;34m\u001B[0m\u001B[0m\n\u001B[0;32m-> 3363\u001B[0;31m                 \u001B[0;32mraise\u001B[0m \u001B[0mKeyError\u001B[0m\u001B[0;34m(\u001B[0m\u001B[0mkey\u001B[0m\u001B[0;34m)\u001B[0m \u001B[0;32mfrom\u001B[0m \u001B[0merr\u001B[0m\u001B[0;34m\u001B[0m\u001B[0;34m\u001B[0m\u001B[0m\n\u001B[0m\u001B[1;32m   3364\u001B[0m \u001B[0;34m\u001B[0m\u001B[0m\n\u001B[1;32m   3365\u001B[0m         \u001B[0;32mif\u001B[0m \u001B[0mis_scalar\u001B[0m\u001B[0;34m(\u001B[0m\u001B[0mkey\u001B[0m\u001B[0;34m)\u001B[0m \u001B[0;32mand\u001B[0m \u001B[0misna\u001B[0m\u001B[0;34m(\u001B[0m\u001B[0mkey\u001B[0m\u001B[0;34m)\u001B[0m \u001B[0;32mand\u001B[0m \u001B[0;32mnot\u001B[0m \u001B[0mself\u001B[0m\u001B[0;34m.\u001B[0m\u001B[0mhasnans\u001B[0m\u001B[0;34m:\u001B[0m\u001B[0;34m\u001B[0m\u001B[0;34m\u001B[0m\u001B[0m\n",
      "\u001B[0;31mKeyError\u001B[0m: 'Population Density'"
     ]
    }
   ],
   "source": [
    "#Q7\n",
    "# Load the dataset\n",
    "data = pd.read_csv('Life Expectancy Data.csv')\n",
    "\n",
    "# Select relevant columns\n",
    "selected_columns = ['Life expectancy', 'Population']\n",
    "\n",
    "# Drop rows with missing values\n",
    "data_cleaned = data[selected_columns].dropna()\n",
    "\n",
    "# Calculate population density (population / area)\n",
    "# If area information is available in the dataset, replace 'area' with the actual column name\n",
    "# Otherwise, you can skip this step if population density is not directly available\n",
    "#data_cleaned['Population Density'] = data_cleaned['Population'] / area\n",
    "\n",
    "# Calculate correlation coefficient\n",
    "correlation_coefficient = data_cleaned['Life expectancy'].corr(data_cleaned['Population Density'])\n",
    "\n",
    "# Print correlation coefficient\n",
    "print(\"Correlation coefficient between Life Expectancy and Population Density:\", correlation_coefficient)\n"
   ],
   "metadata": {
    "collapsed": false,
    "ExecuteTime": {
     "end_time": "2024-02-19T16:00:09.039440Z",
     "start_time": "2024-02-19T16:00:08.979998Z"
    }
   },
   "id": "e33a4fd8d7854bc3"
  },
  {
   "cell_type": "code",
   "execution_count": 6,
   "outputs": [
    {
     "name": "stdout",
     "output_type": "stream",
     "text": [
      "Mean Squared Error: 62.031588516576385\n",
      "Coefficients of predicting variables affecting life expectancy:\n",
      "             Coefficient\n",
      "Diphtheria      0.105742\n",
      "Polio           0.070782\n",
      "Hepatitis B    -0.007940\n"
     ]
    }
   ],
   "source": [
    "#Q8\n",
    "data = pd.read_csv('Life Expectancy Data.csv')\n",
    "data=data.dropna()\n",
    "Immunization_Factors = ['Polio','Diphtheria','Hepatitis B']\n",
    "Immunization_data = data[Immunization_Factors]\n",
    "model = LinearRegression()\n",
    "\n",
    "y = data['Life expectancy']\n",
    "\n",
    "# Split data into training and testing sets\n",
    "X_train, X_test, y_train, y_test = train_test_split(Immunization_data, y, test_size=0.2, random_state=42)\n",
    "\n",
    "# Train a linear regression model\n",
    "model = LinearRegression()\n",
    "model.fit(X_train, y_train)\n",
    "\n",
    "# Predict life expectancy on the test set\n",
    "y_pred = model.predict(X_test)\n",
    "\n",
    "# Evaluate the model using Mean Squared Error (MSE)\n",
    "mse = mean_squared_error(y_test, y_pred)\n",
    "print(\"Mean Squared Error:\", mse)\n",
    "\n",
    "# Get coefficients of the features\n",
    "coefficients = pd.DataFrame(model.coef_, index=Immunization_data.columns, columns=['Coefficient'])\n",
    "coefficients = coefficients.sort_values(by='Coefficient', ascending=False)\n",
    "\n",
    "# Print coefficients of the features\n",
    "print(\"Coefficients of predicting variables affecting life expectancy:\")\n",
    "print(coefficients)"
   ],
   "metadata": {
    "collapsed": false,
    "ExecuteTime": {
     "end_time": "2024-02-22T20:18:06.040293Z",
     "start_time": "2024-02-22T20:18:06.005795Z"
    }
   },
   "id": "3e61b2c6197ba0ad"
  },
  {
   "cell_type": "code",
   "execution_count": null,
   "outputs": [],
   "source": [
    "#Evaluation of the model"
   ],
   "metadata": {
    "collapsed": false
   },
   "id": "ba1ea85d86752003"
  }
 ],
 "metadata": {
  "kernelspec": {
   "display_name": "Python 3",
   "language": "python",
   "name": "python3"
  },
  "language_info": {
   "codemirror_mode": {
    "name": "ipython",
    "version": 2
   },
   "file_extension": ".py",
   "mimetype": "text/x-python",
   "name": "python",
   "nbconvert_exporter": "python",
   "pygments_lexer": "ipython2",
   "version": "2.7.6"
  }
 },
 "nbformat": 4,
 "nbformat_minor": 5
}
